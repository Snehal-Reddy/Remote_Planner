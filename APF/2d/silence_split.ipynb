{
 "cells": [
  {
   "cell_type": "code",
   "execution_count": 1,
   "metadata": {},
   "outputs": [
    {
     "name": "stdout",
     "output_type": "stream",
     "text": [
      "Enter video file name : SVM_MARGIN\n"
     ]
    }
   ],
   "source": [
    "import os\n",
    "import argparse\n",
    "import speech_recognition as sr \n",
    "from pydub import AudioSegment \n",
    "from pydub.silence import split_on_silence\n",
    "import errno\n",
    "from pydub.playback import play\n",
    "from pydub.silence import detect_silence\n",
    "\n",
    "filename = raw_input(\"Enter video file name : \") "
   ]
  },
  {
   "cell_type": "code",
   "execution_count": 2,
   "metadata": {},
   "outputs": [
    {
     "name": "stdout",
     "output_type": "stream",
     "text": [
      ".wav already exists\n"
     ]
    }
   ],
   "source": [
    "file_list = os.listdir(\"./Audio/\")\n",
    "audiofilename = filename + '.wav'  #with extension\n",
    "if audiofilename in file_list:\n",
    "    print(\".wav already exists\")\n",
    "else:\n",
    "    os.system(\"ffmpeg -i Video/\"+ filename + \".mp4 Audio/\" + filename + \".wav\")\n",
    "    print(\".mp4 file converted to .wav file:\",audiofilename)  "
   ]
  },
  {
   "cell_type": "code",
   "execution_count": 3,
   "metadata": {},
   "outputs": [
    {
     "name": "stdout",
     "output_type": "stream",
     "text": [
      "('Loudness of audio', -16.755035069704146)\n"
     ]
    }
   ],
   "source": [
    "path = \"Audio/\"+audiofilename\n",
    "sound = AudioSegment.from_wav(path) \n",
    "print('Loudness of audio',sound.dBFS)"
   ]
  },
  {
   "cell_type": "code",
   "execution_count": 4,
   "metadata": {},
   "outputs": [
    {
     "name": "stdout",
     "output_type": "stream",
     "text": [
      "File exist already.\n"
     ]
    }
   ],
   "source": [
    "try: \n",
    "    os.mkdir('Audio_chunks/'+ filename) \n",
    "except OSError as e:\n",
    "    if e.errno == errno.EEXIST:\n",
    "        print('File exist already.')\n",
    "    else:\n",
    "        raise"
   ]
  },
  {
   "cell_type": "code",
   "execution_count": 5,
   "metadata": {},
   "outputs": [],
   "source": [
    "from pydub.silence import detect_silence\n",
    "silence_segments = detect_silence(sound, min_silence_len=2000, silence_thresh=-20, seek_step=1)"
   ]
  },
  {
   "cell_type": "code",
   "execution_count": 6,
   "metadata": {},
   "outputs": [],
   "source": [
    "silence_segments_14_3 = detect_silence(sound, min_silence_len=3000, silence_thresh=-14, seek_step=1)"
   ]
  },
  {
   "cell_type": "code",
   "execution_count": 7,
   "metadata": {},
   "outputs": [],
   "source": [
    "silence_segments_16_3 = detect_silence(sound, min_silence_len=3000, silence_thresh=-16, seek_step=1)"
   ]
  },
  {
   "cell_type": "code",
   "execution_count": 8,
   "metadata": {},
   "outputs": [],
   "source": [
    "silence_segments_18_3 = detect_silence(sound, min_silence_len=3000, silence_thresh=-18, seek_step=1)"
   ]
  },
  {
   "cell_type": "code",
   "execution_count": 9,
   "metadata": {},
   "outputs": [],
   "source": [
    "silence_segments_20_3 = detect_silence(sound, min_silence_len=3000, silence_thresh=-20, seek_step=1)"
   ]
  },
  {
   "cell_type": "code",
   "execution_count": 10,
   "metadata": {},
   "outputs": [],
   "source": [
    "silence_segments_22_3 = detect_silence(sound, min_silence_len=3000, silence_thresh=-22, seek_step=1)"
   ]
  },
  {
   "cell_type": "code",
   "execution_count": 11,
   "metadata": {},
   "outputs": [],
   "source": [
    "silence_segments_24_3 = detect_silence(sound, min_silence_len=3000, silence_thresh=-14, seek_step=1)"
   ]
  },
  {
   "cell_type": "code",
   "execution_count": 12,
   "metadata": {},
   "outputs": [],
   "source": [
    "silence_segments_18_35 = detect_silence(sound, min_silence_len=3500, silence_thresh=-18, seek_step=1)"
   ]
  },
  {
   "cell_type": "code",
   "execution_count": 13,
   "metadata": {},
   "outputs": [],
   "source": [
    "silence_segments_20_35 = detect_silence(sound, min_silence_len=3500, silence_thresh=-20, seek_step=1)"
   ]
  },
  {
   "cell_type": "code",
   "execution_count": null,
   "metadata": {},
   "outputs": [],
   "source": []
  },
  {
   "cell_type": "code",
   "execution_count": 17,
   "metadata": {},
   "outputs": [
    {
     "name": "stdout",
     "output_type": "stream",
     "text": [
      "('no of segments:', 90)\n",
      "-20.3180061811\n",
      "(0, 0, 0, '-', 0, 0, 20)\n",
      "-17.4854677669\n",
      "(0, 0, 21, '-', 0, 0, 25)\n",
      "-17.9062775997\n",
      "(0, 0, 28, '-', 0, 0, 32)\n",
      "-18.6654579454\n",
      "(0, 0, 32, '-', 0, 0, 45)\n",
      "-19.5074169231\n",
      "(0, 0, 50, '-', 0, 1, 2)\n",
      "-18.185672407\n",
      "(0, 1, 16, '-', 0, 1, 19)\n",
      "-18.2266385754\n",
      "(0, 1, 20, '-', 0, 1, 27)\n",
      "-17.866791492\n",
      "(0, 1, 29, '-', 0, 1, 34)\n",
      "-18.9496605627\n",
      "(0, 1, 34, '-', 0, 2, 5)\n",
      "-18.5840059219\n",
      "(0, 2, 14, '-', 0, 2, 20)\n",
      "-17.4557520704\n",
      "(0, 2, 22, '-', 0, 2, 27)\n",
      "-18.1534666244\n",
      "(0, 2, 28, '-', 0, 2, 34)\n",
      "-21.1513607645\n",
      "(0, 2, 34, '-', 0, 2, 47)\n",
      "-17.7801381926\n",
      "(0, 2, 48, '-', 0, 2, 57)\n",
      "-17.5612056966\n",
      "(0, 2, 59, '-', 0, 3, 13)\n",
      "-17.6053577261\n",
      "(0, 3, 16, '-', 0, 3, 24)\n",
      "-18.2158392582\n",
      "(0, 3, 25, '-', 0, 3, 32)\n",
      "-17.619453296\n",
      "(0, 3, 33, '-', 0, 3, 37)\n",
      "-18.304792571\n",
      "(0, 3, 37, '-', 0, 3, 44)\n",
      "-17.1927888093\n",
      "(0, 3, 44, '-', 0, 3, 49)\n",
      "-18.3858570809\n",
      "(0, 3, 57, '-', 0, 4, 1)\n",
      "-18.3026121042\n",
      "(0, 4, 12, '-', 0, 4, 22)\n",
      "-16.3295986125\n",
      "(0, 4, 27, '-', 0, 4, 30)\n",
      "-17.6780941425\n",
      "(0, 4, 32, '-', 0, 4, 39)\n",
      "-17.3496095319\n",
      "(0, 4, 40, '-', 0, 4, 47)\n",
      "-17.3320445317\n",
      "(0, 4, 54, '-', 0, 4, 58)\n",
      "-17.6821529695\n",
      "(0, 5, 3, '-', 0, 5, 8)\n",
      "-17.5372170333\n",
      "(0, 5, 15, '-', 0, 5, 19)\n",
      "-18.3968700019\n",
      "(0, 5, 22, '-', 0, 5, 29)\n",
      "-17.0822118991\n",
      "(0, 5, 29, '-', 0, 5, 34)\n",
      "-18.9496605627\n",
      "(0, 5, 34, '-', 0, 5, 42)\n",
      "-17.1908703356\n",
      "(0, 5, 44, '-', 0, 5, 49)\n",
      "-17.1468619891\n",
      "(0, 5, 53, '-', 0, 5, 57)\n",
      "-17.7085816769\n",
      "(0, 6, 1, '-', 0, 6, 7)\n",
      "-17.4656460111\n",
      "(0, 6, 21, '-', 0, 6, 26)\n",
      "-17.4478450242\n",
      "(0, 6, 28, '-', 0, 6, 33)\n",
      "-17.9250443833\n",
      "(0, 6, 36, '-', 0, 6, 45)\n",
      "-18.7362144998\n",
      "(0, 6, 46, '-', 0, 6, 53)\n",
      "-18.3091551475\n",
      "(0, 6, 54, '-', 0, 6, 57)\n",
      "-18.0702861984\n",
      "(0, 7, 13, '-', 0, 7, 19)\n",
      "-18.0660419327\n",
      "(0, 7, 22, '-', 0, 7, 29)\n",
      "-17.3106243245\n",
      "(0, 7, 37, '-', 0, 7, 41)\n",
      "-18.706472191\n",
      "(0, 7, 57, '-', 0, 8, 5)\n",
      "-18.1835216358\n",
      "(0, 8, 5, '-', 0, 8, 11)\n",
      "-18.2417802122\n",
      "(0, 8, 23, '-', 0, 8, 33)\n",
      "-17.43402499\n",
      "(0, 8, 40, '-', 0, 8, 45)\n",
      "-18.4921620036\n",
      "(0, 8, 46, '-', 0, 8, 55)\n",
      "-17.9166985843\n",
      "(0, 8, 55, '-', 0, 9, 11)\n",
      "-19.228912279\n",
      "(0, 9, 13, '-', 0, 9, 23)\n",
      "-17.4359979348\n",
      "(0, 9, 26, '-', 0, 9, 30)\n",
      "-19.5024092034\n",
      "(0, 9, 30, '-', 0, 9, 53)\n",
      "-18.8701659977\n",
      "(0, 9, 53, '-', 0, 10, 1)\n",
      "-18.1491815283\n",
      "(0, 10, 1, '-', 0, 10, 9)\n",
      "-20.1330193911\n",
      "(0, 10, 9, '-', 0, 11, 4)\n",
      "-17.9984142265\n",
      "(0, 11, 9, '-', 0, 11, 12)\n",
      "-17.9438518024\n",
      "(0, 11, 16, '-', 0, 11, 19)\n",
      "-18.401279083\n",
      "(0, 11, 26, '-', 0, 11, 36)\n",
      "-17.5192689138\n",
      "(0, 11, 53, '-', 0, 11, 56)\n",
      "-17.8171695167\n",
      "(0, 11, 57, '-', 0, 12, 0)\n",
      "-17.5312302051\n",
      "(0, 12, 0, '-', 0, 12, 5)\n",
      "-17.3926963333\n",
      "(0, 12, 5, '-', 0, 12, 14)\n",
      "-19.8627227961\n",
      "(0, 12, 14, '-', 0, 12, 47)\n",
      "-17.1487707661\n",
      "(0, 12, 54, '-', 0, 12, 57)\n",
      "-17.6113958839\n",
      "(0, 12, 58, '-', 0, 13, 3)\n",
      "-18.0957954374\n",
      "(0, 13, 5, '-', 0, 13, 13)\n",
      "-19.46992921\n",
      "(0, 13, 13, '-', 0, 13, 47)\n",
      "-20.7955749327\n",
      "(0, 13, 49, '-', 0, 14, 25)\n",
      "-20.58322348\n",
      "(0, 14, 25, '-', 0, 15, 4)\n",
      "-17.9021127041\n",
      "(0, 15, 4, '-', 0, 15, 9)\n",
      "-18.1000542704\n",
      "(0, 15, 10, '-', 0, 15, 16)\n",
      "-16.3226526788\n",
      "(0, 15, 16, '-', 0, 15, 20)\n",
      "-18.2764891081\n",
      "(0, 15, 27, '-', 0, 15, 47)\n",
      "-18.4322054776\n",
      "(0, 15, 47, '-', 0, 15, 55)\n",
      "-19.0702834329\n",
      "(0, 15, 57, '-', 0, 16, 5)\n",
      "-18.1427578452\n",
      "(0, 16, 5, '-', 0, 16, 15)\n",
      "-17.4320524932\n",
      "(0, 16, 16, '-', 0, 16, 20)\n",
      "-21.3101789237\n",
      "(0, 16, 20, '-', 0, 17, 10)\n",
      "-19.4649430505\n",
      "(0, 17, 10, '-', 0, 17, 53)\n",
      "-17.7739816255\n",
      "(0, 17, 53, '-', 0, 17, 56)\n",
      "-20.0419827231\n",
      "(0, 17, 58, '-', 0, 18, 23)\n"
     ]
    }
   ],
   "source": [
    "print('no of segments:',len(silence_segments_20_3)+1)\n",
    "for segment in silence_segments_18_3:\n",
    "    check = sound[segment[0]:segment[1]]\n",
    "    print(check.dBFS)\n",
    "    print((segment[0]/3600)/1000,(segment[0]/60000)%60,(segment[0]/1000)%60,'-',(segment[1]/3600000),(segment[1]/60000)%60,(segment[1]/1000)%60)"
   ]
  },
  {
   "cell_type": "code",
   "execution_count": null,
   "metadata": {},
   "outputs": [],
   "source": [
    "# for chunk in chunks:\n",
    "#     play(chunk)\n",
    "#     print(len(chunk))\n",
    "silence_segments = silence_segments_32_3\n",
    "chunks = []\n",
    "previous_segment_begin = 0\n",
    "i=1\n",
    "for segment in silence_segments:\n",
    "    if i==1:\n",
    "        chunk = []\n",
    "        chunk.append(0)\n",
    "        chunk.append((segment[1]+segment[0])/2)\n",
    "        chunk.append(sound[0:(segment[1]+segment[0])/2])\n",
    "        chunks.append(chunk)\n",
    "    else:\n",
    "        chunk = []\n",
    "        chunk.append(previous_segment_begin)\n",
    "        chunk.append((segment[1]+segment[0])/2)     \n",
    "        chunk.append(sound[previous_segment_begin:(segment[1]+segment[0])/2])\n",
    "        chunks.append(chunk)\n",
    "    if i == len(silence_segments): \n",
    "        chunk = []\n",
    "        chunk.append((segment[1]+segment[0])/2)\n",
    "        chunk.append(len(sound)) \n",
    "        chunk.append(sound[(segment[1]+segment[0])/2:len(sound)])\n",
    "        chunks.append(chunk)\n",
    "    previous_segment_begin = (segment[0]+segment[1])/2\n",
    "    i = i+1\n"
   ]
  },
  {
   "cell_type": "code",
   "execution_count": null,
   "metadata": {},
   "outputs": [],
   "source": [
    "print('no of chunks:',len(chunks))\n",
    "size = 0\n",
    "for chunk in chunks:\n",
    "    size += len(chunk[2])\n",
    "print(size/60000)"
   ]
  },
  {
   "cell_type": "code",
   "execution_count": null,
   "metadata": {},
   "outputs": [],
   "source": [
    "text_data = []\n",
    "i = 0\n",
    "for chunk in chunks:\n",
    "    text_segment = []  # text segment = [start time of segment,end time of segment,text in segment]\n",
    "    text_segment.append(chunk[0])\n",
    "    text_segment.append(chunk[1])\n",
    "    \n",
    "    chunk_silent = AudioSegment.silent(duration = 100)  \n",
    "    audio_chunk = chunk_silent + chunk[2] + chunk_silent \n",
    "    \n",
    "    # save chunk in Audio_chunks/filename/\n",
    "    filepath = \"./Audio_chunks/{0}/chunk{1}.wav\".format(filename,i)\n",
    "    audio_chunk.export(filepath, bitrate ='192k', format =\"wav\") \n",
    "    \n",
    "    # convert speech to text\n",
    "    r = sr.Recognizer()  \n",
    "    with sr.AudioFile(filepath) as source: \n",
    "        # r.adjust_for_ambient_noise(source) \n",
    "        audio_listened = r.listen(source) \n",
    "    \n",
    "    try: \n",
    "        rec = r.recognize_google(audio_listened) \n",
    "        print(rec)\n",
    "        text_segment.append(rec)\n",
    "    except sr.UnknownValueError: \n",
    "        print(\"Could not understand audio\") \n",
    "    except sr.RequestError as e: \n",
    "        print(\"Could not request results. check your internet connection\") \n",
    "\n",
    "    text_data.append(text_segment)\n",
    "    i = i + 1"
   ]
  },
  {
   "cell_type": "code",
   "execution_count": null,
   "metadata": {},
   "outputs": [],
   "source": [
    "for text_segment in text_data:\n",
    "    if len(text_segment) == 3:\n",
    "        print((text_segment[0]/1000)/60,(text_segment[0]/1000)%60,'-',(text_segment[1]/1000)/60,(text_segment[1]/1000)%60)\n",
    "        print(text_segment[2])"
   ]
  },
  {
   "cell_type": "code",
   "execution_count": null,
   "metadata": {},
   "outputs": [],
   "source": [
    "indicator_list = ['equal to','minus',' x ',' y ',' z ',' X ',' Y ',' Z ']\n",
    "# strength_list = ['function',' x ',' X ',' y ',' Y ',' z ',' Z ','beta','alpha']\n",
    "strength_list = []\n",
    "function_segments = []\n",
    "for text_segment in text_data:\n",
    "    indicator_count = 0\n",
    "    strengthener_count = 0\n",
    "    if len(text_segment) == 3:\n",
    "        for indicator in indicator_list:\n",
    "                indicator_count = indicator_count + text_segment[2].count(indicator)\n",
    "        for strengthener in strength_list:\n",
    "            strengthener_count = strengthener_count + text_segment[2].count(strengthener)\n",
    "    if indicator_count >= 1 or strengthener_count >= 3:\n",
    "        print((text_segment[0]/1000)/60,(text_segment[0]/1000)%60,'-',(text_segment[1]/1000)/60,(text_segment[1]/1000)%60)\n",
    "        print(text_segment[2])\n",
    "        function_segments.append(text_segment)\n",
    "    "
   ]
  },
  {
   "cell_type": "code",
   "execution_count": null,
   "metadata": {},
   "outputs": [],
   "source": [
    "for segment in function_segments:\n",
    "    print((segment[0]/1000)/60,(segment[0]/1000)%60,'-',(segment[1]/1000)/60,(segment[1]/1000)%60)"
   ]
  },
  {
   "cell_type": "code",
   "execution_count": null,
   "metadata": {},
   "outputs": [],
   "source": [
    "print(len(sound)/60000)"
   ]
  }
 ],
 "metadata": {
  "kernelspec": {
   "display_name": "Python 2",
   "language": "python",
   "name": "python2"
  },
  "language_info": {
   "codemirror_mode": {
    "name": "ipython",
    "version": 2
   },
   "file_extension": ".py",
   "mimetype": "text/x-python",
   "name": "python",
   "nbconvert_exporter": "python",
   "pygments_lexer": "ipython2",
   "version": "2.7.12"
  }
 },
 "nbformat": 4,
 "nbformat_minor": 2
}